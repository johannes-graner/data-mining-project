{
 "cells": [
  {
   "cell_type": "code",
   "execution_count": 1,
   "metadata": {},
   "outputs": [],
   "source": [
    "%run ./frocc.ipynb"
   ]
  },
  {
   "cell_type": "code",
   "execution_count": 34,
   "metadata": {},
   "outputs": [],
   "source": [
    "from scipy.io import loadmat\n",
    "from sklearn.model_selection import train_test_split\n",
    "from sklearn.metrics import confusion_matrix"
   ]
  },
  {
   "cell_type": "code",
   "execution_count": 16,
   "metadata": {},
   "outputs": [],
   "source": [
    "# https://osf.io/jda6s/\n",
    "mnist = loadmat(\"datasets/mnist-original.mat\")"
   ]
  },
  {
   "cell_type": "code",
   "execution_count": 57,
   "metadata": {},
   "outputs": [],
   "source": [
    "digits = mnist['data'].T\n",
    "labels = mnist['label'].flatten()"
   ]
  },
  {
   "cell_type": "code",
   "execution_count": 58,
   "metadata": {},
   "outputs": [],
   "source": [
    "# only 0 is outlier\n",
    "labels = np.array(list(map(lambda x: 0 if x != 0 else 1, labels)))"
   ]
  },
  {
   "cell_type": "code",
   "execution_count": 60,
   "metadata": {},
   "outputs": [],
   "source": [
    "x_train, x_test, y_train, y_test = train_test_split(\n",
    "  digits, labels, test_size=0.3\n",
    ")"
   ]
  },
  {
   "cell_type": "code",
   "execution_count": 61,
   "metadata": {},
   "outputs": [],
   "source": [
    "train_inliers = np.argwhere(y_train == 0).flatten()\n",
    "x_train = x_train[train_inliers]\n",
    "y_train = y_train[train_inliers]"
   ]
  },
  {
   "cell_type": "code",
   "execution_count": 76,
   "metadata": {},
   "outputs": [],
   "source": [
    "def run(m, eps, output=True):\n",
    "  d = x_train.shape[1]\n",
    "\n",
    "  detector = frocc(m, eps, d)\n",
    "  detector.train(x_train)\n",
    "  y_pred = detector.test(x_test)\n",
    "\n",
    "  tp, fn, fp, tn = confusion_matrix(y_test, y_pred).ravel()\n",
    "  tpr = tp/(tp + fn)\n",
    "  fpr = fp/(fp + tn)\n",
    "  acc = (tp + tn)/(tp + fn + fp + tn)\n",
    "\n",
    "  if output:\n",
    "    print(\"TP:  {} \\t FN:  {}\".format(tp, fn))\n",
    "    print(\"FP:  {} \\t TN:  {}\".format(fp, tn))\n",
    "    print(\"TPR: {:.3f} \\t FPR: {:.3f}\".format(tpr, fpr))\n",
    "    print(\"ACC: {:.3f} \\t LR+: {:.3f}\".format(acc, tpr/fpr))"
   ]
  },
  {
   "cell_type": "code",
   "execution_count": 84,
   "metadata": {},
   "outputs": [
    {
     "name": "stdout",
     "output_type": "stream",
     "text": [
      "TP:  12685 \t FN:  6195\n",
      "FP:  631 \t TN:  1489\n",
      "TPR: 0.672 \t FPR: 0.298\n",
      "ACC: 0.675 \t LR+: 2.257\n"
     ]
    }
   ],
   "source": [
    "m = 20\n",
    "eps = 0.0002\n",
    "run(m, eps)"
   ]
  }
 ],
 "metadata": {
  "interpreter": {
   "hash": "d4d1e4263499bec80672ea0156c357c1ee493ec2b1c70f0acce89fc37c4a6abe"
  },
  "kernelspec": {
   "display_name": "Python 3.8.6 64-bit ('base': conda)",
   "name": "python3"
  },
  "language_info": {
   "codemirror_mode": {
    "name": "ipython",
    "version": 3
   },
   "file_extension": ".py",
   "mimetype": "text/x-python",
   "name": "python",
   "nbconvert_exporter": "python",
   "pygments_lexer": "ipython3",
   "version": "3.8.6"
  },
  "orig_nbformat": 4
 },
 "nbformat": 4,
 "nbformat_minor": 2
}
